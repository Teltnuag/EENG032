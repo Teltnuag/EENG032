{
 "cells": [
  {
   "cell_type": "code",
   "execution_count": 2,
   "id": "81c0a970-18b5-4480-bb8f-e19d0e5ea537",
   "metadata": {
    "collapsed": true,
    "jupyter": {
     "outputs_hidden": true,
     "source_hidden": true
    },
    "tags": []
   },
   "outputs": [
    {
     "name": "stdout",
     "output_type": "stream",
     "text": [
      "{'a': '1', 'B': '2', 'c': '3', 'HW2': 'Done'}\n",
      "{'literalKey': 'literalValue', 'key1': 'word1'}\n",
      "'Single quotes', \"Double quotes\", \"'Both single and double quotes'\"\n",
      "Line1\n",
      "Line2\n",
      "part1:part2\n",
      "Wright, Mason\n"
     ]
    }
   ],
   "source": [
    "### Week 1: Lecture 2\n",
    "#1\n",
    "l = []\n",
    "l.extend([\"1\",\"2\",\"3\",\"4\"])\n",
    "l.pop()\n",
    "\n",
    "#2\n",
    "list1 = [\"a\", \"B\", \"c\"]\n",
    "list2 = [\"1\", \"2\", \"3\"]\n",
    "d = dict(zip(list1,list2))\n",
    "d[\"HW2\"] = \"Done\"\n",
    "print(d)\n",
    "\n",
    "key1 = \"key1\"\n",
    "word1 = \"word1\"\n",
    "d2 = {\"literalKey\":\"literalValue\", key1:word1}\n",
    "print(d2)\n",
    "\n",
    "#3\n",
    "string = \"\\'Single quotes\\', \\\"Double quotes\\\", \\\"\\'Both single and double quotes\\'\\\"\"\n",
    "print(string)\n",
    "\n",
    "#4\n",
    "string = r\"\"\"Line1\n",
    "Line2\"\"\"\n",
    "print(string)\n",
    "\n",
    "#5\n",
    "string = ':'.join([\"part1\",\"part2\"])\n",
    "print(string)\n",
    "\n",
    "#6\n",
    "name = \"{last:s}, {first:s}\".format(first = \"Mason\", last = \"Wright\")\n",
    "print(name)"
   ]
  },
  {
   "cell_type": "code",
   "execution_count": 3,
   "id": "3d85621a-85bc-4dc7-a0eb-61d205e47ff9",
   "metadata": {
    "collapsed": true,
    "jupyter": {
     "outputs_hidden": true,
     "source_hidden": true
    },
    "tags": []
   },
   "outputs": [
    {
     "name": "stdout",
     "output_type": "stream",
     "text": [
      "yep\n",
      "\n",
      "['LESS Than']\n",
      "\n",
      "0\n",
      "2\n",
      "4\n",
      "6\n",
      "8\n",
      "10\n",
      "\n",
      "['a1', 'a2', 'a3', 'b1', 'b2', 'b3', 'c1', 'c2', 'c3']\n",
      "\n",
      "0\n",
      "1\n",
      "2\n",
      "3\n",
      "4\n",
      "5\n",
      "\n",
      "0\n",
      "2\n",
      "4\n",
      "6\n",
      "8\n",
      "10\n"
     ]
    }
   ],
   "source": [
    "### Week 1: Lecture 3\n",
    "# Write a conditional expression statement with, \"if, elif and else.\"\n",
    "#  to check if my_string = \"Hello World\" is a string\n",
    "my_string = \"a string\"\n",
    "if isinstance(my_string, str):\n",
    "    print(\"yep\")\n",
    "elif isinstance(my_string, int):\n",
    "    print(\"actually an int\")\n",
    "else:\n",
    "    print(\"something else\")\n",
    "\n",
    "# Write a list comprehension that returns all the keys in a dictionary\n",
    "#  whose associated values are greater than zero.\n",
    "# - The dictionary: `{'aa': 11, 'cc': 33, 'LESS Than': -55, 'bb': 22}`\n",
    "# - Output should be a list\n",
    "print()\n",
    "theDict = {'aa': 11, 'cc': 33, 'LESS Than': -55, 'bb': 22}\n",
    "li = [k for k in theDict if theDict[k] < 0]\n",
    "print(li)\n",
    "\n",
    "# Write a list comprehension that produces even integers from 0 to 10.\n",
    "# Use a `for` statement to iterate over those values and print results to screen.\n",
    "print()\n",
    "li = [2*n for n in range(0,6)]\n",
    "for i in li:\n",
    "    print(i)\n",
    "\n",
    "# Write a list comprehension that iterates over two lists and produces\n",
    "#  all the combinations of items from the lists.\n",
    "print()\n",
    "list1 = ['a', 'b', 'c']\n",
    "list2 = ['1', '2', '3']\n",
    "combos = [l1+l2 for l1 in list1 for l2 in list2]\n",
    "print(combos)\n",
    "\n",
    "# Using `break`, write a `while` statement that\n",
    "#  prints integers from zero to 5.\n",
    "print()\n",
    "n = 0\n",
    "while True:\n",
    "    if n <= 5:\n",
    "        print(n)\n",
    "        n = n+1\n",
    "    else:\n",
    "        break\n",
    "\n",
    "# Using `continue` , write a `while` statement\n",
    "#  that processes only even integers from 0 to 10. Note: `%` is the\n",
    "#  modulo operator.\n",
    "print()\n",
    "n = -1\n",
    "while n <= 10:\n",
    "    n = n+1\n",
    "    if n%2 != 0:\n",
    "        continue\n",
    "    print(n)"
   ]
  },
  {
   "cell_type": "code",
   "execution_count": 4,
   "id": "e2f36893-5c7d-4e6b-9ee5-bee94c1bc3a3",
   "metadata": {
    "collapsed": true,
    "jupyter": {
     "outputs_hidden": true,
     "source_hidden": true
    },
    "tags": []
   },
   "outputs": [
    {
     "name": "stdout",
     "output_type": "stream",
     "text": [
      "5\n",
      "\n",
      "(1, 2, 3)\n",
      "\n",
      "a: 1\n",
      "b: 2\n",
      "c: 3\n",
      "\n",
      "mason wright\n",
      "MASON WRIGHT\n",
      "Mason Wright\n"
     ]
    }
   ],
   "source": [
    "### Week 1: Lecture 4\n",
    "# Write a function that takes a single argument, prints the value of\n",
    "#   the argument, and returns the argument as a string.\n",
    "def func(inp):\n",
    "    print(inp)\n",
    "    return str(inp)\n",
    "func(5)\n",
    "\n",
    "# Write a function that takes a variable number of arguments and\n",
    "#   prints them all.\n",
    "print()\n",
    "def func2(*inps):\n",
    "    print(inps)\n",
    "func2(1,2,3)\n",
    "\n",
    "# Write a function that prints the names and values of keyword\n",
    "#   arguments passed to it.\n",
    "print()\n",
    "def func3(a=None, b=None, c=None):\n",
    "    print('a:',a)\n",
    "    print('b:',b)\n",
    "    print('c:',c)\n",
    "func3(1,2,3)\n",
    "\n",
    "# Write a python script (file) that prints your name as all lower case, upper case and proper capitalization.  \n",
    "#  (Bonus) if you can pass in your name: input()? argparse? etc\n",
    "print()\n",
    "name = input(\"Enter name:\")\n",
    "print(name.lower())\n",
    "print(name.upper())\n",
    "print(name.title())"
   ]
  },
  {
   "cell_type": "code",
   "execution_count": 3,
   "id": "cb392221-5799-4759-8b7e-c4dfe743ee15",
   "metadata": {},
   "outputs": [],
   "source": [
    "# ### Week 2 Lesson 1\n",
    "# ## Pr 3\n",
    "\n",
    "# Using `open` , create a new file that records user input \n",
    "# (min 1, max 4 inputs) and then opens that files and APPENDS the following\n",
    "# \"Received User Input\"\n",
    "\n",
    "inFile = open(\"UserInput.txt\", 'a')\n",
    "for i in range(4):\n",
    "    userInput = input(\"Enter an input or 'exit': \")\n",
    "    if userInput == 'exit':\n",
    "        break\n",
    "    inFile.write(userInput+'\\n')\n",
    "inFile.write(\"Received User Input\")\n",
    "inFile.close()\n",
    "\n",
    "# ## Pr 4\n",
    "# repeat # 3 with a `with`\n",
    "with open(\"UserInput.txt\", 'a') as inFile:\n",
    "    for i in range(4):\n",
    "        userInput = input(\"Enter an input or 'exit': \")\n",
    "        if userInput == 'exit':\n",
    "            break\n",
    "        inFile.write(userInput+'\\n')\n",
    "    inFile.write(\"Received User Input\")\n",
    "\n",
    "# ## Pr 5\n",
    "\n",
    "# * Create a new git repo in github.\n",
    "# * Populate it with typical files and directories (.gitignore and README.md)\n",
    "# * Commit your changes.\n",
    "# * Push it to your repository"
   ]
  }
 ],
 "metadata": {
  "kernelspec": {
   "display_name": "Python 3.9.13 ('base')",
   "language": "python",
   "name": "python3"
  },
  "language_info": {
   "codemirror_mode": {
    "name": "ipython",
    "version": 3
   },
   "file_extension": ".py",
   "mimetype": "text/x-python",
   "name": "python",
   "nbconvert_exporter": "python",
   "pygments_lexer": "ipython3",
   "version": "3.9.13"
  },
  "vscode": {
   "interpreter": {
    "hash": "7fd6d01d6b9410d0183fab44698c76d34d31ef6115382fa7a2ede7d48aed581a"
   }
  }
 },
 "nbformat": 4,
 "nbformat_minor": 5
}
